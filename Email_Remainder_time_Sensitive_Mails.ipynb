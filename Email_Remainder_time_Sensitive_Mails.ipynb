{
  "cells": [
    {
      "cell_type": "markdown",
      "metadata": {
        "id": "view-in-github",
        "colab_type": "text"
      },
      "source": [
        "<a href=\"https://colab.research.google.com/github/Munna148/ChatApp_Remainders/blob/main/Email_Remainder_time_Sensitive_Mails.ipynb\" target=\"_parent\"><img src=\"https://colab.research.google.com/assets/colab-badge.svg\" alt=\"Open In Colab\"/></a>"
      ]
    },
    {
      "cell_type": "code",
      "execution_count": null,
      "metadata": {
        "colab": {
          "base_uri": "https://localhost:8080/"
        },
        "id": "4ayfitZZ9prq",
        "outputId": "a14b239a-55f4-497c-c387-c82c8493bf5b"
      },
      "outputs": [
        {
          "name": "stdout",
          "output_type": "stream",
          "text": [
            "Requirement already satisfied: plyer in /usr/local/lib/python3.11/dist-packages (2.1.0)\n"
          ]
        }
      ],
      "source": [
        "!pip install plyer"
      ]
    },
    {
      "cell_type": "code",
      "execution_count": 1,
      "metadata": {
        "colab": {
          "base_uri": "https://localhost:8080/"
        },
        "id": "Q46NB5kpTcnx",
        "outputId": "1e332079-ed4a-48a8-8af8-736d744a7be5"
      },
      "outputs": [
        {
          "output_type": "stream",
          "name": "stdout",
          "text": [
            "❌ Error loading model/tokenizer: [Errno 2] Unable to synchronously open file (unable to open file: name = 'time_sensitive_model.h5', errno = 2, error message = 'No such file or directory', flags = 0, o_flags = 0)\n",
            "\n",
            "📩 New Email from Kotak 811 <Kotak811@kotak.in>\n",
            "📌 Subject: Important: Video KYC of Kotak 811 A/c no. ending with 4860 is\n",
            " pending\n",
            "❌ Error fetching emails: name 'tokenizer' is not defined\n"
          ]
        }
      ],
      "source": [
        "import imaplib\n",
        "import email\n",
        "import smtplib\n",
        "import pickle\n",
        "import numpy as np\n",
        "from email.mime.text import MIMEText\n",
        "from email import header\n",
        "from keras.models import load_model\n",
        "from keras.preprocessing.sequence import pad_sequences\n",
        "from plyer import notification\n",
        "import re\n",
        "\n",
        "# Gmail IMAP settings\n",
        "EMAIL_USER = \"use your gmail address to fetch mails \"\n",
        "EMAIL_PASS = \"mvcm jgxs vdfk zjoh\"  # Use an App Password if using Gmail\n",
        "IMAP_SERVER = \"imap.gmail.com\"\n",
        "IMAP_PORT = 993\n",
        "\n",
        "# SMTP settings for sending alerts\n",
        "SMTP_SERVER = \"smtp.gmail.com\"\n",
        "SMTP_PORT = 465\n",
        "\n",
        "# Load trained LSTM model and tokenizer\n",
        "MODEL_PATH = \"time_sensitive_model.h5\"\n",
        "TOKENIZER_PATH = \"tokenizer.pkl\"\n",
        "\n",
        "try:\n",
        "    model = load_model(MODEL_PATH)\n",
        "    print(model.input_shape)\n",
        "    with open(TOKENIZER_PATH, \"rb\") as handle:\n",
        "        tokenizer = pickle.load(handle)\n",
        "    print(\"✅ LSTM model and tokenizer loaded successfully!\")\n",
        "except Exception as e:\n",
        "    print(f\"❌ Error loading model/tokenizer: {e}\")\n",
        "    exit()\n",
        "\n",
        "\n",
        "# Function to decode MIME-encoded email subjects\n",
        "def decode_subject(encoded_subject):\n",
        "    decoded_parts = header.decode_header(encoded_subject)\n",
        "    subject = \"\"\n",
        "    for part, encoding in decoded_parts:\n",
        "        if isinstance(part, bytes):  # Decode bytes using the specified encoding\n",
        "            subject += part.decode(encoding or \"utf-8\", errors=\"ignore\")\n",
        "        else:\n",
        "            subject += part  # Already a string\n",
        "    return subject.strip()  # Remove unwanted spaces\n",
        "\n",
        "\n",
        "# Function to preprocess email text\n",
        "def preprocess_text(text, max_len=100):\n",
        "    text = re.sub(r\"\\W\", \" \", text)  # Remove special characters\n",
        "    text = text.lower().strip()\n",
        "\n",
        "    sequences = tokenizer.texts_to_sequences([text])\n",
        "\n",
        "    # Ensure padding to max_len = 100\n",
        "    padded_seq = pad_sequences(sequences, maxlen=max_len, padding=\"post\")\n",
        "\n",
        "    print(f\"Processed text: {text}\")\n",
        "    print(f\"Tokenized sequence shape: {padded_seq.shape}\")  # Should be (1, 100)\n",
        "\n",
        "    return padded_seq\n",
        "\n",
        "\n",
        "# Function to classify email urgency\n",
        "def classify_email(subject, body):\n",
        "    subject_seq = preprocess_text(subject)  # Shape: (1, 100)\n",
        "    body_seq = preprocess_text(body)  # Shape: (1, 100)\n",
        "\n",
        "    # Use only one text input (subject) and one numerical input\n",
        "    num_features = np.array([[len(subject), len(body), subject.count(\"!\") + body.count(\"!\")]])  # Shape: (1, 3)\n",
        "\n",
        "    print(f\"Subject sequence shape: {subject_seq.shape}\")  # Should be (1, 100)\n",
        "    print(f\"Numerical features shape: {num_features.shape}\")  # Should be (1, 3)\n",
        "\n",
        "    # Pass correct inputs to the model\n",
        "    prediction = model.predict([subject_seq, num_features])[0][0]  # Use only subject_seq\n",
        "\n",
        "    return \"Time-sensitive\" if prediction > 0.5 else \"Normal\"\n",
        "\n",
        "\n",
        "# Function to send a desktop notification\n",
        "def send_notification(subject, sender):\n",
        "    try:\n",
        "        notification.notify(\n",
        "            title=\"🚨 Urgent Email Alert 🚨\",\n",
        "            message=f\"From: {sender}\\nSubject: {subject}\",\n",
        "            app_name=\"Email Alert\",\n",
        "            timeout=10\n",
        "        )\n",
        "        print(\"📢 Desktop notification sent!\")\n",
        "    except Exception as e:\n",
        "        print(f\"❌ Failed to send desktop notification: {e}\")\n",
        "\n",
        "\n",
        "# Function to send an email alert\n",
        "def send_email_alert(subject, sender):\n",
        "    email_body = f\"\"\"\n",
        "    🚨 Urgent Email Received! 🚨\n",
        "\n",
        "    📩 From: {sender}\n",
        "    📌 Subject: {subject}\n",
        "\n",
        "    Please check your inbox for details.\n",
        "    \"\"\"\n",
        "\n",
        "    msg = MIMEText(email_body)\n",
        "    msg[\"Subject\"] = f\"🚨 Urgent Email Alert: {subject}\"  # Include received subject in alert\n",
        "    msg[\"From\"] = EMAIL_USER\n",
        "    msg[\"To\"] = EMAIL_USER  # Sending alert to yourself\n",
        "\n",
        "    try:\n",
        "        with smtplib.SMTP_SSL(SMTP_SERVER, SMTP_PORT) as server:\n",
        "            server.login(EMAIL_USER, EMAIL_PASS)\n",
        "            server.sendmail(EMAIL_USER, EMAIL_USER, msg.as_string())\n",
        "        print(\"📧 Email alert sent successfully!\")\n",
        "    except Exception as e:\n",
        "        print(f\"❌ Failed to send email alert: {e}\")\n",
        "\n",
        "\n",
        "# Function to fetch latest unread emails from Gmail using IMAP\n",
        "def fetch_unread_emails():\n",
        "    try:\n",
        "        # Connect to IMAP server\n",
        "        mail = imaplib.IMAP4_SSL(IMAP_SERVER, IMAP_PORT)\n",
        "        mail.login(EMAIL_USER, EMAIL_PASS)\n",
        "        mail.select(\"inbox\")\n",
        "\n",
        "        # Search for unread emails\n",
        "        status, email_ids = mail.search(None, 'UNSEEN')\n",
        "        email_ids = email_ids[0].split()\n",
        "\n",
        "        for e_id in email_ids:\n",
        "            status, msg_data = mail.fetch(e_id, \"(RFC822)\")\n",
        "            raw_email = msg_data[0][1]\n",
        "            msg = email.message_from_bytes(raw_email)\n",
        "\n",
        "            # Extract email details\n",
        "            subject = decode_subject(msg[\"Subject\"])  # ✅ Decode subject properly\n",
        "            sender = msg[\"From\"]\n",
        "            body = \"\"\n",
        "\n",
        "            if msg.is_multipart():\n",
        "                for part in msg.walk():\n",
        "                    content_type = part.get_content_type()\n",
        "                    if content_type == \"text/plain\":\n",
        "                        try:\n",
        "                            body = part.get_payload(decode=True).decode(errors=\"ignore\")\n",
        "                        except:\n",
        "                            body = \"\"\n",
        "                        break\n",
        "            else:\n",
        "                try:\n",
        "                    body = msg.get_payload(decode=True).decode(errors=\"ignore\")\n",
        "                except:\n",
        "                    body = \"\"\n",
        "\n",
        "            print(f\"\\n📩 New Email from {sender}\\n📌 Subject: {subject}\")  # ✅ Properly decoded\n",
        "\n",
        "            # Classify email urgency\n",
        "            urgency = classify_email(subject, body)\n",
        "\n",
        "            if urgency == \"Time-sensitive\":\n",
        "                print(\"🚨 Urgent Email Found! 🚨\")\n",
        "                send_notification(subject, sender)\n",
        "                send_email_alert(subject, sender)\n",
        "            else:\n",
        "                print(\"✅ Normal email detected.\")\n",
        "\n",
        "        mail.logout()\n",
        "\n",
        "    except Exception as e:\n",
        "        print(f\"❌ Error fetching emails: {e}\")\n",
        "\n",
        "\n",
        "# Run the email checking function\n",
        "fetch_unread_emails()\n"
      ]
    },
    {
      "cell_type": "code",
      "execution_count": 2,
      "metadata": {
        "colab": {
          "base_uri": "https://localhost:8080/"
        },
        "id": "Iwo4sWMVTxJK",
        "outputId": "f05562f4-7c9b-4a1a-ce19-cf305cf6e5d2"
      },
      "outputs": [
        {
          "output_type": "stream",
          "name": "stdout",
          "text": [
            "Collecting plyer\n",
            "  Downloading plyer-2.1.0-py2.py3-none-any.whl.metadata (61 kB)\n",
            "\u001b[?25l     \u001b[90m━━━━━━━━━━━━━━━━━━━━━━━━━━━━━━━━━━━━━━━━\u001b[0m \u001b[32m0.0/61.2 kB\u001b[0m \u001b[31m?\u001b[0m eta \u001b[36m-:--:--\u001b[0m\r\u001b[2K     \u001b[90m━━━━━━━━━━━━━━━━━━━━━━━━━━━━━━━━━━━━━━━━\u001b[0m \u001b[32m61.2/61.2 kB\u001b[0m \u001b[31m2.5 MB/s\u001b[0m eta \u001b[36m0:00:00\u001b[0m\n",
            "\u001b[?25hDownloading plyer-2.1.0-py2.py3-none-any.whl (142 kB)\n",
            "\u001b[?25l   \u001b[90m━━━━━━━━━━━━━━━━━━━━━━━━━━━━━━━━━━━━━━━━\u001b[0m \u001b[32m0.0/142.3 kB\u001b[0m \u001b[31m?\u001b[0m eta \u001b[36m-:--:--\u001b[0m\r\u001b[2K   \u001b[90m━━━━━━━━━━━━━━━━━━━━━━━━━━━━━━━━━━━━━━━━\u001b[0m \u001b[32m142.3/142.3 kB\u001b[0m \u001b[31m5.5 MB/s\u001b[0m eta \u001b[36m0:00:00\u001b[0m\n",
            "\u001b[?25hInstalling collected packages: plyer\n",
            "Successfully installed plyer-2.1.0\n"
          ]
        }
      ],
      "source": [
        "!pip install plyer"
      ]
    },
    {
      "cell_type": "code",
      "execution_count": 3,
      "metadata": {
        "colab": {
          "base_uri": "https://localhost:8080/"
        },
        "id": "avYYJUlaT32J",
        "outputId": "4612f08d-2d6e-4c05-c300-cb311411460b"
      },
      "outputs": [
        {
          "output_type": "stream",
          "name": "stdout",
          "text": [
            "Requirement already satisfied: keras in /usr/local/lib/python3.11/dist-packages (3.8.0)\n",
            "Requirement already satisfied: absl-py in /usr/local/lib/python3.11/dist-packages (from keras) (1.4.0)\n",
            "Requirement already satisfied: numpy in /usr/local/lib/python3.11/dist-packages (from keras) (2.0.2)\n",
            "Requirement already satisfied: rich in /usr/local/lib/python3.11/dist-packages (from keras) (13.9.4)\n",
            "Requirement already satisfied: namex in /usr/local/lib/python3.11/dist-packages (from keras) (0.0.9)\n",
            "Requirement already satisfied: h5py in /usr/local/lib/python3.11/dist-packages (from keras) (3.13.0)\n",
            "Requirement already satisfied: optree in /usr/local/lib/python3.11/dist-packages (from keras) (0.15.0)\n",
            "Requirement already satisfied: ml-dtypes in /usr/local/lib/python3.11/dist-packages (from keras) (0.4.1)\n",
            "Requirement already satisfied: packaging in /usr/local/lib/python3.11/dist-packages (from keras) (24.2)\n",
            "Requirement already satisfied: typing-extensions>=4.5.0 in /usr/local/lib/python3.11/dist-packages (from optree->keras) (4.13.2)\n",
            "Requirement already satisfied: markdown-it-py>=2.2.0 in /usr/local/lib/python3.11/dist-packages (from rich->keras) (3.0.0)\n",
            "Requirement already satisfied: pygments<3.0.0,>=2.13.0 in /usr/local/lib/python3.11/dist-packages (from rich->keras) (2.19.1)\n",
            "Requirement already satisfied: mdurl~=0.1 in /usr/local/lib/python3.11/dist-packages (from markdown-it-py>=2.2.0->rich->keras) (0.1.2)\n"
          ]
        }
      ],
      "source": [
        "!pip install keras"
      ]
    }
  ],
  "metadata": {
    "colab": {
      "provenance": [],
      "authorship_tag": "ABX9TyOA5FLV9LLOknlVuVnNucDh",
      "include_colab_link": true
    },
    "kernelspec": {
      "display_name": "Python 3",
      "name": "python3"
    },
    "language_info": {
      "name": "python"
    }
  },
  "nbformat": 4,
  "nbformat_minor": 0
}
